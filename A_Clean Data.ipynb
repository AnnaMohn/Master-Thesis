{
 "cells": [
  {
   "cell_type": "markdown",
   "id": "15a5704a-47cb-48a9-b123-dc79c6c511e9",
   "metadata": {},
   "source": [
    "Load data"
   ]
  },
  {
   "cell_type": "code",
   "execution_count": 11,
   "id": "4a8f5d53-e8dd-49d6-b34f-f62b1052e984",
   "metadata": {},
   "outputs": [],
   "source": [
    "import pandas as pd\n",
    "\n",
    "df1 = pd.read_excel('../MT data/8146-2.xlsx', sheet_name=\"comparison\")\n",
    "df2 = pd.read_excel('../MT data/8147-2.xlsx', sheet_name=\"comparison\")\n",
    "df3 = pd.read_excel('../MT data/8223.xlsx', sheet_name=\"comparison\")\n",
    "df4 = pd.read_excel('../MT data/8224.xlsx', sheet_name=\"comparison\")\n",
    "df5 = pd.read_excel('../MT data/8269.xlsx', sheet_name=\"comparison\")\n",
    "df6 = pd.read_excel('../MT data/8270.xlsx', sheet_name=\"comparison\")\n",
    "df7 = pd.read_excel('../MT data/8271.xlsx', sheet_name=\"comparison\")\n",
    "df8 = pd.read_excel('../MT data/8277.xlsx', sheet_name=\"comparison\")\n",
    "df9 = pd.read_excel('../MT data/8278.xlsx', sheet_name=\"comparison\")\n",
    "df10 = pd.read_excel('../MT data/8279.xlsx', sheet_name=\"comparison\")\n",
    "df11 = pd.read_excel('../MT data/8377.xlsx', sheet_name=\"comparison\")\n",
    "df12 = pd.read_excel('../MT data/8378.xlsx', sheet_name=\"comparison\")\n",
    "df13 = pd.read_excel('../MT data/8379.xlsx', sheet_name=\"comparison\")\n",
    "year_technology_abstracts = pd.read_csv('../MT data/Year_pred_technology.csv')"
   ]
  },
  {
   "cell_type": "code",
   "execution_count": 12,
   "id": "2ba3e0ff-efe2-4032-a39a-dd817e644350",
   "metadata": {
    "tags": []
   },
   "outputs": [
    {
     "data": {
      "text/html": [
       "<div>\n",
       "<style scoped>\n",
       "    .dataframe tbody tr th:only-of-type {\n",
       "        vertical-align: middle;\n",
       "    }\n",
       "\n",
       "    .dataframe tbody tr th {\n",
       "        vertical-align: top;\n",
       "    }\n",
       "\n",
       "    .dataframe thead th {\n",
       "        text-align: right;\n",
       "    }\n",
       "</style>\n",
       "<table border=\"1\" class=\"dataframe\">\n",
       "  <thead>\n",
       "    <tr style=\"text-align: right;\">\n",
       "      <th></th>\n",
       "      <th>id</th>\n",
       "      <th>doc__title</th>\n",
       "      <th>doc__content</th>\n",
       "      <th>Category Name</th>\n",
       "      <th>anna.mohn@posteo.de</th>\n",
       "    </tr>\n",
       "  </thead>\n",
       "  <tbody>\n",
       "    <tr>\n",
       "      <th>0</th>\n",
       "      <td>441</td>\n",
       "      <td>Reconciling environment and development in the...</td>\n",
       "      <td>Providing a mechanism for financial transfers ...</td>\n",
       "      <td>0 - relevant</td>\n",
       "      <td>1</td>\n",
       "    </tr>\n",
       "    <tr>\n",
       "      <th>1</th>\n",
       "      <td>441</td>\n",
       "      <td>Reconciling environment and development in the...</td>\n",
       "      <td>Providing a mechanism for financial transfers ...</td>\n",
       "      <td>4 - 1. Economic instruments</td>\n",
       "      <td>1</td>\n",
       "    </tr>\n",
       "    <tr>\n",
       "      <th>2</th>\n",
       "      <td>441</td>\n",
       "      <td>Reconciling environment and development in the...</td>\n",
       "      <td>Providing a mechanism for financial transfers ...</td>\n",
       "      <td>4 - 2. Regulatory Instruments</td>\n",
       "      <td>0</td>\n",
       "    </tr>\n",
       "    <tr>\n",
       "      <th>3</th>\n",
       "      <td>441</td>\n",
       "      <td>Reconciling environment and development in the...</td>\n",
       "      <td>Providing a mechanism for financial transfers ...</td>\n",
       "      <td>4 - 3. Information, education and training</td>\n",
       "      <td>0</td>\n",
       "    </tr>\n",
       "    <tr>\n",
       "      <th>4</th>\n",
       "      <td>441</td>\n",
       "      <td>Reconciling environment and development in the...</td>\n",
       "      <td>Providing a mechanism for financial transfers ...</td>\n",
       "      <td>4 - 4. Governance, strategies and targets</td>\n",
       "      <td>0</td>\n",
       "    </tr>\n",
       "    <tr>\n",
       "      <th>...</th>\n",
       "      <td>...</td>\n",
       "      <td>...</td>\n",
       "      <td>...</td>\n",
       "      <td>...</td>\n",
       "      <td>...</td>\n",
       "    </tr>\n",
       "    <tr>\n",
       "      <th>3633</th>\n",
       "      <td>5348049</td>\n",
       "      <td>Summation of the Microbial Ecology of Biochar ...</td>\n",
       "      <td>Microbial ecology analysis is a relatively new...</td>\n",
       "      <td>6 - 4.09. Stakeholder Engagement</td>\n",
       "      <td>0</td>\n",
       "    </tr>\n",
       "    <tr>\n",
       "      <th>3634</th>\n",
       "      <td>5348049</td>\n",
       "      <td>Summation of the Microbial Ecology of Biochar ...</td>\n",
       "      <td>Microbial ecology analysis is a relatively new...</td>\n",
       "      <td>7 - ex ante</td>\n",
       "      <td>1</td>\n",
       "    </tr>\n",
       "    <tr>\n",
       "      <th>3635</th>\n",
       "      <td>5348049</td>\n",
       "      <td>Summation of the Microbial Ecology of Biochar ...</td>\n",
       "      <td>Microbial ecology analysis is a relatively new...</td>\n",
       "      <td>7 - ex post</td>\n",
       "      <td>0</td>\n",
       "    </tr>\n",
       "    <tr>\n",
       "      <th>3636</th>\n",
       "      <td>5348049</td>\n",
       "      <td>Summation of the Microbial Ecology of Biochar ...</td>\n",
       "      <td>Microbial ecology analysis is a relatively new...</td>\n",
       "      <td>8 - precise/concrete</td>\n",
       "      <td>1</td>\n",
       "    </tr>\n",
       "    <tr>\n",
       "      <th>3637</th>\n",
       "      <td>5348049</td>\n",
       "      <td>Summation of the Microbial Ecology of Biochar ...</td>\n",
       "      <td>Microbial ecology analysis is a relatively new...</td>\n",
       "      <td>8 - superficial</td>\n",
       "      <td>0</td>\n",
       "    </tr>\n",
       "  </tbody>\n",
       "</table>\n",
       "<p>31846 rows × 5 columns</p>\n",
       "</div>"
      ],
      "text/plain": [
       "           id                                         doc__title  \\\n",
       "0         441  Reconciling environment and development in the...   \n",
       "1         441  Reconciling environment and development in the...   \n",
       "2         441  Reconciling environment and development in the...   \n",
       "3         441  Reconciling environment and development in the...   \n",
       "4         441  Reconciling environment and development in the...   \n",
       "...       ...                                                ...   \n",
       "3633  5348049  Summation of the Microbial Ecology of Biochar ...   \n",
       "3634  5348049  Summation of the Microbial Ecology of Biochar ...   \n",
       "3635  5348049  Summation of the Microbial Ecology of Biochar ...   \n",
       "3636  5348049  Summation of the Microbial Ecology of Biochar ...   \n",
       "3637  5348049  Summation of the Microbial Ecology of Biochar ...   \n",
       "\n",
       "                                           doc__content  \\\n",
       "0     Providing a mechanism for financial transfers ...   \n",
       "1     Providing a mechanism for financial transfers ...   \n",
       "2     Providing a mechanism for financial transfers ...   \n",
       "3     Providing a mechanism for financial transfers ...   \n",
       "4     Providing a mechanism for financial transfers ...   \n",
       "...                                                 ...   \n",
       "3633  Microbial ecology analysis is a relatively new...   \n",
       "3634  Microbial ecology analysis is a relatively new...   \n",
       "3635  Microbial ecology analysis is a relatively new...   \n",
       "3636  Microbial ecology analysis is a relatively new...   \n",
       "3637  Microbial ecology analysis is a relatively new...   \n",
       "\n",
       "                                   Category Name  anna.mohn@posteo.de  \n",
       "0                                   0 - relevant                    1  \n",
       "1                    4 - 1. Economic instruments                    1  \n",
       "2                  4 - 2. Regulatory Instruments                    0  \n",
       "3     4 - 3. Information, education and training                    0  \n",
       "4      4 - 4. Governance, strategies and targets                    0  \n",
       "...                                          ...                  ...  \n",
       "3633            6 - 4.09. Stakeholder Engagement                    0  \n",
       "3634                                 7 - ex ante                    1  \n",
       "3635                                 7 - ex post                    0  \n",
       "3636                        8 - precise/concrete                    1  \n",
       "3637                             8 - superficial                    0  \n",
       "\n",
       "[31846 rows x 5 columns]"
      ]
     },
     "execution_count": 12,
     "metadata": {},
     "output_type": "execute_result"
    }
   ],
   "source": [
    "#merge all data\n",
    "pdList = [df1, df2, df3, df4, df5, df6, df7, df8, df9, df10, df11, df12, df13]\n",
    "all_data = pd.concat(pdList)\n",
    "all_data = all_data.rename(columns={'doc__id': 'id'})\n",
    "\n",
    "#drop the irrelevant columns which were created in the group labeling process\n",
    "all_data.drop(['lamw', 'lueck@mcc-berlin.net', 'agreement'], axis=1)"
   ]
  },
  {
   "cell_type": "code",
   "execution_count": 13,
   "id": "f330812c-c03b-4d31-8191-d0fb8d545120",
   "metadata": {
    "tags": []
   },
   "outputs": [],
   "source": [
    "all_data.loc[all_data[\"anna.mohn@posteo.de\"]==2, \"anna.mohn@posteo.de\"] = 0\n",
    "all_data.loc[all_data[\"anna.mohn@posteo.de\"]==-1, \"anna.mohn@posteo.de\"] = 0"
   ]
  },
  {
   "cell_type": "code",
   "execution_count": 14,
   "id": "c5a6c939-8f33-4a1e-b7b6-f57a5cc2c60c",
   "metadata": {
    "tags": []
   },
   "outputs": [],
   "source": [
    "all_data = all_data.pivot_table(index=\"id\", columns=\"Category Name\", values=\"anna.mohn@posteo.de\", aggfunc='first')"
   ]
  },
  {
   "cell_type": "markdown",
   "id": "51feec39-7b16-4025-92a6-280fad3f820b",
   "metadata": {},
   "source": [
    "Extract relevant data"
   ]
  },
  {
   "cell_type": "code",
   "execution_count": 15,
   "id": "7b530f5d-ca44-4782-b21e-11a0439417a9",
   "metadata": {},
   "outputs": [],
   "source": [
    "#define columns to keep during the extraction process\n",
    "columns_to_keep_level_1 = ['0 - relevant',\n",
    "                           '4 - 1. Economic instruments',\n",
    "                           '4 - 2. Regulatory Instruments',\n",
    "                           '4 - 3. Information, education and training',\n",
    "                           '4 - 4. Governance, strategies and targets',\n",
    "                           '4 - 5. Agreements']"
   ]
  },
  {
   "cell_type": "code",
   "execution_count": 16,
   "id": "96052006-501b-4021-ba85-a119e52b64b1",
   "metadata": {
    "tags": []
   },
   "outputs": [],
   "source": [
    "columns_to_keep_level_2 = ['0 - relevant',\n",
    "                           '4 - 1. Economic instruments',\n",
    "                           '4 - 2. Regulatory Instruments',\n",
    "                           '4 - 3. Information, education and training',\n",
    "                           '4 - 4. Governance, strategies and targets',\n",
    "                           '4 - 5. Agreements',\n",
    "                           '5 - 1.02. Carbon pricing',\n",
    "                           '5 - 1.02. Subsidies',\n",
    "                           '5 - 1.03. Non-carbon taxes',\n",
    "                           '5 - 1.04. Direct Investment / spending', \n",
    "                           '5 - 2.05. Trade policy', '5 - 2.07. Regulation on transactions',\n",
    "                           '5 - 2.06. Quotas',\n",
    "                           '5 - 2.09. Spatial and land-use planning',\n",
    "                           '5 - 2.10. Other regulation', \n",
    "                           '5 - 2.11. Standards', \n",
    "                           '5 - 3.12. Public Information/awareness campaigns',\n",
    "                           '5 - 3.14. Education and training', \n",
    "                           '5 - 3.15. Standardized labels, reporting and accounting standards and certification schemes',\n",
    "                           '5 - 3.16. Publication of data / analysis', \n",
    "                           '5 - 4.17. Planning',\n",
    "                           '5 - 4.18. Government administration & management',\n",
    "                           '5 - 4.19. Institutions', \n",
    "                           '5 - 5.20. Domestic agreements',\n",
    "                           '5 - 5.21. Inter/transnational agreements']"
   ]
  },
  {
   "cell_type": "code",
   "execution_count": 17,
   "id": "3d98f852-79a1-4308-9953-f856ba191989",
   "metadata": {
    "tags": []
   },
   "outputs": [],
   "source": [
    "columns_to_keep_level_3 = ['6 - 1.01. Tax', \n",
    "                           '6 - 1.03. Subsidy/ compensation/ allowance', \n",
    "                           '6 - 1.04. Feed in tariffs', \n",
    "                           '6 - 1.05. Emissions trading', \n",
    "                           '6 - 1.06. Subsidy removal', \n",
    "                           '6 - 1.10. Other non-carbon taxes', \n",
    "                           '6 - 1.11. Infrastructure Investments', \n",
    "                           '6 - 1.12. R&D investments', \n",
    "                           '6 - 1.13. International investments', \n",
    "                           '6 - 1.14. Other investments', \n",
    "                           '6 - 2.11. Tradeable Intensity standards', \n",
    "                           '6 - 2.13. Product specification standards', \n",
    "                           '6 - 2.14. Production standards', \n",
    "                           '6 - 2.17. Bans, and moratoria', \n",
    "                           '6 - 3.06. Collection of data', \n",
    "                           '6 - 4.01. Targets & goals', \n",
    "                           '6 - 4.02. Binding targets & goals', \n",
    "                           '6 - 4.03. Strategies', \n",
    "                           '6 - 4.04. Market design', \n",
    "                           '6 - 4.06. Policy Coordination', \n",
    "                           '6 - 4.07. Expert advice', \n",
    "                           '6 - 4.09. Stakeholder Engagement']"
   ]
  },
  {
   "cell_type": "code",
   "execution_count": 18,
   "id": "49bfed58-c8de-48f4-a2c9-b80af84ee602",
   "metadata": {},
   "outputs": [],
   "source": [
    "columns_to_keep_ex_ante_post = ['0 - relevant', '7 - ex ante', '7 - ex post']                                           "
   ]
  },
  {
   "cell_type": "code",
   "execution_count": 19,
   "id": "320f9bc9-ab2d-4ba9-8967-f391edf3b1c2",
   "metadata": {
    "tags": []
   },
   "outputs": [],
   "source": [
    "columns_to_keep_detail_in_depth = ['0 - relevant', '8 - precise/concrete', '8 - superficial']"
   ]
  },
  {
   "cell_type": "markdown",
   "id": "45c7d55c-0961-40bf-9902-107106bf45cf",
   "metadata": {},
   "source": [
    "Rename the columns"
   ]
  },
  {
   "cell_type": "code",
   "execution_count": 20,
   "id": "899dcc20-0e24-4f82-86e0-5745f32b4e00",
   "metadata": {
    "tags": []
   },
   "outputs": [],
   "source": [
    "level_1 = all_data[columns_to_keep_level_1]"
   ]
  },
  {
   "cell_type": "code",
   "execution_count": 21,
   "id": "20353d7f-9b78-482f-b861-30a8da9bf7f7",
   "metadata": {
    "tags": []
   },
   "outputs": [],
   "source": [
    "level_1 = level_1.rename(columns={'0 - relevant': 'Relevance',\n",
    "                                   '4 - 1. Economic instruments': 'Economic instruments',\n",
    "                                   '4 - 2. Regulatory Instruments': 'Regulatory instruments',\n",
    "                                   '4 - 3. Information, education and training': 'Information, education and training',\n",
    "                                   '4 - 4. Governance, strategies and targets': 'Governance, strategies and targets',\n",
    "                                   '4 - 5. Agreements': 'Agreements'})"
   ]
  },
  {
   "cell_type": "code",
   "execution_count": 22,
   "id": "7314c370-427a-48a1-a925-9f13067c4263",
   "metadata": {
    "tags": []
   },
   "outputs": [],
   "source": [
    "level_2 = all_data[columns_to_keep_level_2]\n",
    "level_2 = level_2.rename(columns={'0 - relevant': 'Relevance',\n",
    "                                   '4 - 1. Economic instruments': 'Economic instruments',\n",
    "                                   '4 - 2. Regulatory Instruments': 'Regulatory instruments',\n",
    "                                   '4 - 3. Information, education and training': 'Information, education and training',\n",
    "                                   '4 - 4. Governance, strategies and targets': 'Governance, strategies and targets',\n",
    "                                   '4 - 5. Agreements': 'Agreements'})\n",
    "level_2 = level_2.rename(columns={'0 - relevant': 'Relevance'})\n",
    "\n",
    "def drop_first_10_letters(level_2):\n",
    "    excluded_columns = ['Relevance', 'Economic instruments', 'Regulatory instruments', 'Information, education and training', 'Governance, strategies and targets', 'Agreements']\n",
    "    new_names = {col: col[10:] if col not in excluded_columns else col for col in level_2.columns}\n",
    "    level_2 = level_2.rename(columns=new_names)\n",
    "\n",
    "    return level_2\n",
    "\n",
    "level_2 = drop_first_10_letters(level_2)"
   ]
  },
  {
   "cell_type": "code",
   "execution_count": 23,
   "id": "ef822a75-7309-4438-ab7b-f7588d8203e7",
   "metadata": {
    "tags": []
   },
   "outputs": [],
   "source": [
    "level_3 = all_data[columns_to_keep_level_3]\n",
    "\n",
    "def drop_first_10_letters(level_3):\n",
    "    excluded_columns = ['Relevance']\n",
    "    new_names = {col: col[10:] if col not in excluded_columns else col for col in level_3.columns}\n",
    "    level_3 = level_3.rename(columns=new_names)\n",
    "\n",
    "    return level_3\n",
    "\n",
    "level_3 = drop_first_10_letters(level_3)"
   ]
  },
  {
   "cell_type": "code",
   "execution_count": 24,
   "id": "1d57ba9c-8ef2-4e82-a3db-10f4b37ee128",
   "metadata": {
    "tags": []
   },
   "outputs": [],
   "source": [
    "ex_ante_post = all_data[columns_to_keep_ex_ante_post]\n",
    "ex_ante_post = ex_ante_post.rename(columns={'0 - relevant': 'Relevance', '7 - ex ante': 'Ex ante', '7 - ex post': 'Ex post' })"
   ]
  },
  {
   "cell_type": "code",
   "execution_count": 25,
   "id": "86a789f1-c5f3-4900-be38-213f7f9fd8bf",
   "metadata": {
    "tags": []
   },
   "outputs": [],
   "source": [
    "detail_peripherally = all_data[columns_to_keep_detail_in_depth]\n",
    "detail_peripherally = detail_peripherally.rename(columns={'0 - relevant': 'Relevance', '8 - precise/concrete': 'In Depth', '8 - superficial': 'Peripherally' })"
   ]
  },
  {
   "cell_type": "markdown",
   "id": "a2ea0f24-ef3d-42b0-8d09-272d06c3f7fa",
   "metadata": {},
   "source": [
    "Merge with information on year, technology, abstract and the prediction of the CDR technologies"
   ]
  },
  {
   "cell_type": "code",
   "execution_count": 26,
   "id": "28957c7c-528a-4cec-b7b7-2331f1e20ed0",
   "metadata": {
    "tags": []
   },
   "outputs": [],
   "source": [
    "columns_to_keep_year_technology_abstracts = [\"id\",\n",
    "                                             \"title\",\n",
    "                                             \"abstract\",\n",
    "                                             \"year\",\n",
    "                                             \"pred_BECCS\",\n",
    "                                             \"pred_Biochar\",\n",
    "                                             \"pred_Blue Carbon\",\n",
    "                                             \"pred_Ocean alkalinity enhancement\",\n",
    "                                             \"pred_Forest Management\",\n",
    "                                             \"pred_Other technologies\",\n",
    "                                             \"pred_Soil Carbon Sequestration\",\n",
    "                                             \"pred_Agroforestry\",\n",
    "                                             \"pred_Enhanced Weathering (land based)\",\n",
    "                                             \"pred_Ocean fertilization & Artificial upwelling\",\n",
    "                                             \"pred_DAC(CS)\",\n",
    "                                             \"pred_General Literature on CDR/NET\",\n",
    "                                             \"pred_AR\",\n",
    "                                             \"pred_restoration of landscapes/peats\"]\n",
    "year_technology_abstracts = year_technology_abstracts[columns_to_keep_year_technology_abstracts]\n",
    "\n",
    "year_technology_abstracts['year'] = year_technology_abstracts['year'].astype(str).str[:-2]"
   ]
  },
  {
   "cell_type": "code",
   "execution_count": 27,
   "id": "17bc1de2-21ca-4ebd-b1c1-0d67b9b5a941",
   "metadata": {
    "tags": []
   },
   "outputs": [],
   "source": [
    "def drop_first_5_letters(year_technology_abstracts):\n",
    "    excluded_columns = ['id', 'title', 'abstract', 'year']\n",
    "    new_names = {col: col[5:] if col not in excluded_columns else col for col in year_technology_abstracts.columns}\n",
    "    year_technology_abstracts = year_technology_abstracts.rename(columns=new_names)\n",
    "\n",
    "    return year_technology_abstracts\n",
    "\n",
    "year_technology_abstracts = drop_first_5_letters(year_technology_abstracts)"
   ]
  },
  {
   "cell_type": "code",
   "execution_count": 28,
   "id": "8ce9db13-b612-4435-9e95-e7523bcdbc85",
   "metadata": {
    "tags": []
   },
   "outputs": [],
   "source": [
    "#ensure that only relevant papers are selected by setting relevance to 1\n",
    "level_1 = level_1.merge(year_technology_abstracts[[\"id\", \"year\",\n",
    "                                                   \"BECCS\", \n",
    "                                                      \"Biochar\", \n",
    "                                                      \"Blue Carbon\", \n",
    "                                                      \"Ocean alkalinity enhancement\", \n",
    "                                                      \"Forest Management\",\n",
    "                                                      \"Other technologies\",\n",
    "                                                      \"Soil Carbon Sequestration\",\n",
    "                                                      \"Agroforestry\",\n",
    "                                                      \"Enhanced Weathering (land based)\",\n",
    "                                                      \"Ocean fertilization & Artificial upwelling\",\n",
    "                                                      \"DAC(CS)\",\n",
    "                                                      \"General Literature on CDR/NET\",\n",
    "                                                      \"AR\",\n",
    "                                                      \"restoration of landscapes/peats\"]], on=\"id\", how=\"left\")\n",
    "mask = level_1[\"Relevance\"] == 1\n",
    "level_1 = level_1.loc[mask]"
   ]
  },
  {
   "cell_type": "code",
   "execution_count": 29,
   "id": "cfb0cfe2-4611-4c86-9a3b-dd24e1930a54",
   "metadata": {
    "tags": []
   },
   "outputs": [],
   "source": [
    "level_2  = level_2.merge(year_technology_abstracts[[\"id\", \"year\",                                                       \"BECCS\", \n",
    "                                                      \"Biochar\", \n",
    "                                                      \"Blue Carbon\",  \n",
    "                                                      \"Ocean alkalinity enhancement\", \n",
    "                                                      \"Forest Management\",\n",
    "                                                      \"Other technologies\",\n",
    "                                                      \"Soil Carbon Sequestration\",\n",
    "                                                      \"Agroforestry\",\n",
    "                                                      \"Enhanced Weathering (land based)\",\n",
    "                                                      \"Ocean fertilization & Artificial upwelling\",\n",
    "                                                      \"DAC(CS)\",\n",
    "                                                      \"General Literature on CDR/NET\",\n",
    "                                                      \"AR\",\n",
    "                                                      \"restoration of landscapes/peats\"]], on=\"id\", how=\"left\")\n",
    "\n",
    "mask = level_2[\"Relevance\"] == 1\n",
    "level_2 = level_2.loc[mask]"
   ]
  },
  {
   "cell_type": "code",
   "execution_count": 30,
   "id": "7e600672-32f2-467f-a05a-4c2b9820ae44",
   "metadata": {
    "tags": []
   },
   "outputs": [],
   "source": [
    "level_3  = level_3.merge(year_technology_abstracts[[\"id\"]], on=\"id\", how=\"left\")\n"
   ]
  },
  {
   "cell_type": "code",
   "execution_count": 31,
   "id": "461f9690-f08d-4cdf-a2d4-eb96bafed492",
   "metadata": {
    "tags": []
   },
   "outputs": [],
   "source": [
    "ex_ante_post = ex_ante_post.merge(year_technology_abstracts[[\"id\", \"year\",                                                       \"BECCS\", \n",
    "                                                      \"Biochar\", \n",
    "                                                      \"Blue Carbon\",  \n",
    "                                                      \"Ocean alkalinity enhancement\", \n",
    "                                                      \"Forest Management\",\n",
    "                                                      \"Other technologies\",\n",
    "                                                      \"Soil Carbon Sequestration\",\n",
    "                                                      \"Agroforestry\",\n",
    "                                                      \"Enhanced Weathering (land based)\",\n",
    "                                                      \"Ocean fertilization & Artificial upwelling\",\n",
    "                                                      \"DAC(CS)\",\n",
    "                                                      \"General Literature on CDR/NET\",\n",
    "                                                      \"AR\",\n",
    "                                                      \"restoration of landscapes/peats\"]], on=\"id\", how=\"left\")\n",
    "mask = ex_ante_post[\"Relevance\"] == 1\n",
    "ex_ante_post = ex_ante_post.loc[mask]"
   ]
  },
  {
   "cell_type": "code",
   "execution_count": 32,
   "id": "130f2415-2ab5-44ff-9171-83e630451815",
   "metadata": {
    "tags": []
   },
   "outputs": [],
   "source": [
    "detail_peripherally = detail_peripherally.merge(year_technology_abstracts[[\"id\", \"year\",                                                       \"BECCS\", \n",
    "                                                      \"Biochar\", \n",
    "                                                      \"Blue Carbon\",  \n",
    "                                                      \"Ocean alkalinity enhancement\", \n",
    "                                                      \"Forest Management\",\n",
    "                                                      \"Other technologies\",\n",
    "                                                      \"Soil Carbon Sequestration\",\n",
    "                                                      \"Agroforestry\",\n",
    "                                                      \"Enhanced Weathering (land based)\",\n",
    "                                                      \"Ocean fertilization & Artificial upwelling\",\n",
    "                                                      \"DAC(CS)\",\n",
    "                                                      \"General Literature on CDR/NET\",\n",
    "                                                      \"AR\",\n",
    "                                                      \"restoration of landscapes/peats\"]], on=\"id\", how=\"left\")\n",
    "mask = detail_peripherally[\"Relevance\"] == 1\n",
    "detail_peripherally = detail_peripherally.loc[mask]"
   ]
  },
  {
   "cell_type": "markdown",
   "id": "3b0c6143-b345-406a-9b12-06619a402c02",
   "metadata": {},
   "source": [
    "Save as new dataframes"
   ]
  },
  {
   "cell_type": "code",
   "execution_count": 35,
   "id": "7135e6d7-96ed-4764-815d-ff57610f9a86",
   "metadata": {},
   "outputs": [],
   "source": [
    "level_1.to_csv(\"../MT data/level_1.csv\", index=False)\n",
    "level_2.to_csv(\"../MT data/level_2.csv\", index=False)\n",
    "level_3.to_csv(\"../MT data/level_3.csv\", index=False)\n",
    "ex_ante_post.to_csv(\"../MT data/ex_ante_post_test.csv\",index=False)\n",
    "detail_peripherally.to_csv(\"../MT data/detail_peripherally_tes.csv\",index=False)"
   ]
  }
 ],
 "metadata": {
  "kernelspec": {
   "display_name": "Python 3 (ipykernel)",
   "language": "python",
   "name": "python3"
  },
  "language_info": {
   "codemirror_mode": {
    "name": "ipython",
    "version": 3
   },
   "file_extension": ".py",
   "mimetype": "text/x-python",
   "name": "python",
   "nbconvert_exporter": "python",
   "pygments_lexer": "ipython3",
   "version": "3.10.9"
  }
 },
 "nbformat": 4,
 "nbformat_minor": 5
}
