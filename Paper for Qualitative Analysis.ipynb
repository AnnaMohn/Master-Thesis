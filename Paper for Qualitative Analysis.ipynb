{
 "cells": [
  {
   "cell_type": "code",
   "execution_count": 1,
   "id": "ea4c79c1-205f-456c-b283-f6eaa6bce3de",
   "metadata": {
    "tags": []
   },
   "outputs": [],
   "source": [
    "import pandas as pd\n",
    "\n",
    "df = pd.read_csv(\"../MT data/level_2.csv\")\n",
    "title = pd.read_csv('../MT data/Year_pred_technology.csv')\n",
    "year = pd.read_csv('../MT data/year.csv')\n",
    "\n",
    "year_without_CCS = year.loc[~((year['CCS'] == 1) & (year['Biochar'] == 0) & (year['BECCS'] == 0) & (year['Blue Carbon'] == 0) \n",
    "                              & (year[\"Ocean alkalinity enhancement\"] == 0) & (year['Forest Management'] == 0)\n",
    "                              & (year['Soil Carbon Sequestration'] == 0)\n",
    "                              & (year['Agroforestry'] == 0) & (year['Enhanced Weathering (land based)'] == 0)\n",
    "                              & (year['Ocean fertilization & Artificial upwelling'] == 0)\n",
    "                              & (year[\"DAC(CS)\"] == 0) & (year['General Literature on CDR/NET'] == 0)\n",
    "                              & (year[\"AR\"] == 0)  & (year[\"restoration of landscapes/peats\"] == 0)),:]\n",
    "\n",
    "df = pd.merge(df, year_without_CCS[['id']], on='id', how='inner')\n",
    "mask = df[\"Relevance\"] == 1\n",
    "df = df.loc[mask]\n",
    "df = df.rename(columns={'AR': 'Afforestation', 'restoration of landscapes/peats': 'Peatland and Wetland Restoration', \"Enhanced Weathering (land based)\": \"Enhanced Weathering\"})\n"
   ]
  },
  {
   "cell_type": "code",
   "execution_count": 2,
   "id": "1ab727bc-b1f9-4651-87d7-ff10976d215c",
   "metadata": {
    "tags": []
   },
   "outputs": [],
   "source": [
    "df = pd.merge(df, title[['id', 'title', 'abstract']], on='id', how='left')"
   ]
  },
  {
   "cell_type": "code",
   "execution_count": 3,
   "id": "1562f27a-d83b-4854-a59a-6b4e31bb7ea8",
   "metadata": {
    "tags": []
   },
   "outputs": [],
   "source": [
    "Afforestation = df.loc[(df['Standardized labels, reporting and accounting standards and certification schemes'] == 1) & (df['Afforestation'] == 1), ['id','title']].values\n",
    "\n",
    "afforestation_df = pd.DataFrame(Afforestation, columns=['id', 'title'])\n",
    "\n",
    "# Save the DataFrame to an XLSX file\n",
    "afforestation_df.to_excel('../MT data/afforestation_data.xlsx', index=False)"
   ]
  },
  {
   "cell_type": "code",
   "execution_count": 4,
   "id": "e7470ac8-47f6-49b8-9eb5-e36c2990beaa",
   "metadata": {
    "tags": []
   },
   "outputs": [
    {
     "data": {
      "text/html": [
       "<div>\n",
       "<style scoped>\n",
       "    .dataframe tbody tr th:only-of-type {\n",
       "        vertical-align: middle;\n",
       "    }\n",
       "\n",
       "    .dataframe tbody tr th {\n",
       "        vertical-align: top;\n",
       "    }\n",
       "\n",
       "    .dataframe thead th {\n",
       "        text-align: right;\n",
       "    }\n",
       "</style>\n",
       "<table border=\"1\" class=\"dataframe\">\n",
       "  <thead>\n",
       "    <tr style=\"text-align: right;\">\n",
       "      <th></th>\n",
       "      <th>id</th>\n",
       "      <th>title</th>\n",
       "    </tr>\n",
       "  </thead>\n",
       "  <tbody>\n",
       "    <tr>\n",
       "      <th>0</th>\n",
       "      <td>10278</td>\n",
       "      <td>Combining bioenergy with carbon capture and st...</td>\n",
       "    </tr>\n",
       "    <tr>\n",
       "      <th>1</th>\n",
       "      <td>48492</td>\n",
       "      <td>Reframing the policy approach to greenhouse ga...</td>\n",
       "    </tr>\n",
       "    <tr>\n",
       "      <th>2</th>\n",
       "      <td>193370</td>\n",
       "      <td>A Path Forward for Low Carbon Power from Biomass</td>\n",
       "    </tr>\n",
       "    <tr>\n",
       "      <th>3</th>\n",
       "      <td>433186</td>\n",
       "      <td>Selected papers from the World Energy Council ...</td>\n",
       "    </tr>\n",
       "    <tr>\n",
       "      <th>4</th>\n",
       "      <td>685950</td>\n",
       "      <td>Terrestrial ecosystem management for climate c...</td>\n",
       "    </tr>\n",
       "    <tr>\n",
       "      <th>5</th>\n",
       "      <td>897953</td>\n",
       "      <td>The political economy of negative emissions te...</td>\n",
       "    </tr>\n",
       "    <tr>\n",
       "      <th>6</th>\n",
       "      <td>1983097</td>\n",
       "      <td>Governance of bioenergy with carbon capture an...</td>\n",
       "    </tr>\n",
       "    <tr>\n",
       "      <th>7</th>\n",
       "      <td>2328120</td>\n",
       "      <td>Beyond carbon pricing: policy levers for negat...</td>\n",
       "    </tr>\n",
       "    <tr>\n",
       "      <th>8</th>\n",
       "      <td>4374928</td>\n",
       "      <td>Mapping feasibilities of greenhouse gas remova...</td>\n",
       "    </tr>\n",
       "    <tr>\n",
       "      <th>9</th>\n",
       "      <td>4984571</td>\n",
       "      <td>Incentivizing BECCS—A Swedish Case Study</td>\n",
       "    </tr>\n",
       "    <tr>\n",
       "      <th>10</th>\n",
       "      <td>5331558</td>\n",
       "      <td>Negative Emissions: Priorities for Research an...</td>\n",
       "    </tr>\n",
       "  </tbody>\n",
       "</table>\n",
       "</div>"
      ],
      "text/plain": [
       "         id                                              title\n",
       "0     10278  Combining bioenergy with carbon capture and st...\n",
       "1     48492  Reframing the policy approach to greenhouse ga...\n",
       "2    193370   A Path Forward for Low Carbon Power from Biomass\n",
       "3    433186  Selected papers from the World Energy Council ...\n",
       "4    685950  Terrestrial ecosystem management for climate c...\n",
       "5    897953  The political economy of negative emissions te...\n",
       "6   1983097  Governance of bioenergy with carbon capture an...\n",
       "7   2328120  Beyond carbon pricing: policy levers for negat...\n",
       "8   4374928  Mapping feasibilities of greenhouse gas remova...\n",
       "9   4984571           Incentivizing BECCS—A Swedish Case Study\n",
       "10  5331558  Negative Emissions: Priorities for Research an..."
      ]
     },
     "execution_count": 4,
     "metadata": {},
     "output_type": "execute_result"
    }
   ],
   "source": [
    "BECCS = df.loc[(df['Standardized labels, reporting and accounting standards and certification schemes'] == 1) & (df['BECCS'] == 1), ['id','title']].values\n",
    "\n",
    "BECCS_df = pd.DataFrame(BECCS, columns=['id', 'title'])\n",
    "\n",
    "# Save the DataFrame to an XLSX file\n",
    "BECCS_df.to_excel('../MT data/beccs_data.xlsx', index=False)"
   ]
  }
 ],
 "metadata": {
  "kernelspec": {
   "display_name": "Python 3 (ipykernel)",
   "language": "python",
   "name": "python3"
  },
  "language_info": {
   "codemirror_mode": {
    "name": "ipython",
    "version": 3
   },
   "file_extension": ".py",
   "mimetype": "text/x-python",
   "name": "python",
   "nbconvert_exporter": "python",
   "pygments_lexer": "ipython3",
   "version": "3.10.9"
  }
 },
 "nbformat": 4,
 "nbformat_minor": 5
}
