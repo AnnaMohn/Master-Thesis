{
 "cells": [
  {
   "cell_type": "markdown",
   "id": "15a5704a-47cb-48a9-b123-dc79c6c511e9",
   "metadata": {},
   "source": [
    "Load data"
   ]
  },
  {
   "cell_type": "code",
   "execution_count": 7,
   "id": "4a8f5d53-e8dd-49d6-b34f-f62b1052e984",
   "metadata": {},
   "outputs": [],
   "source": [
    "import pandas as pd\n",
    "\n",
    "year_technology_abstracts = pd.read_csv('/Users/annamohn/Desktop/Hertie School/MT data/Year_pred_technology.csv')"
   ]
  },
  {
   "cell_type": "markdown",
   "id": "51feec39-7b16-4025-92a6-280fad3f820b",
   "metadata": {},
   "source": [
    "Extract relevant data"
   ]
  },
  {
   "cell_type": "code",
   "execution_count": 2,
   "id": "49bfed58-c8de-48f4-a2c9-b80af84ee602",
   "metadata": {},
   "outputs": [],
   "source": [
    "columns_to_keep_year_technology_abstracts = [\"id\",\n",
    "                                             \"title\",\n",
    "                                             \"abstract\",\n",
    "                                             \"year\",\n",
    "                                             \"pred_BECCS\",\n",
    "                                             \"pred_Biochar\",\n",
    "                                             \"pred_Blue Carbon\",\n",
    "                                             \"pred_CCS\",\n",
    "                                             \"pred_CCUS\",\n",
    "                                             \"pred_Ocean alkalinity enhancement\",\n",
    "                                             \"pred_Forest Management\",\n",
    "                                             \"pred_Algae farming\",\n",
    "                                             \"pred_Other technologies\",\n",
    "                                             \"pred_Soil Carbon Sequestration\",\n",
    "                                             \"pred_Agroforestry\",\n",
    "                                             \"pred_Enhanced Weathering (land based)\",\n",
    "                                             \"pred_Ocean fertilization & Artificial upwelling\",\n",
    "                                             \"pred_DAC(CS)\",\n",
    "                                             \"pred_General Literature on CDR/NET\",\n",
    "                                             \"pred_AR\",\n",
    "                                             \"pred_restoration of landscapes/peats\"]\n",
    "year_technology_abstracts = year_technology_abstracts[columns_to_keep_year_technology_abstracts]\n",
    "\n",
    "year_technology_abstracts['year'] = year_technology_abstracts['year'].astype(str).str[:-2]"
   ]
  },
  {
   "cell_type": "markdown",
   "id": "45c7d55c-0961-40bf-9902-107106bf45cf",
   "metadata": {},
   "source": [
    "Rename the columns"
   ]
  },
  {
   "cell_type": "code",
   "execution_count": 3,
   "id": "877189ee-1a14-4e2f-8332-6816a2061b3a",
   "metadata": {},
   "outputs": [],
   "source": [
    "import pandas as pd\n",
    "\n",
    "def drop_first_5_letters(year_technology_abstracts):\n",
    "    excluded_columns = ['id', 'title', 'abstract', 'year']\n",
    "    new_names = {col: col[5:] if col not in excluded_columns else col for col in year_technology_abstracts.columns}\n",
    "    year_technology_abstracts = year_technology_abstracts.rename(columns=new_names)\n",
    "\n",
    "    return year_technology_abstracts\n",
    "\n",
    "year_technology_abstracts = drop_first_5_letters(year_technology_abstracts)\n"
   ]
  },
  {
   "cell_type": "markdown",
   "id": "a8035ddf-4deb-433e-b1b6-67ff9ff3c6b3",
   "metadata": {},
   "source": [
    "Merge the columns for the graphs"
   ]
  },
  {
   "cell_type": "code",
   "execution_count": 4,
   "id": "72219ed5-b762-4976-88ad-248826705267",
   "metadata": {},
   "outputs": [],
   "source": [
    "year = year_technology_abstracts[[\"id\", \"year\",                                                       \"BECCS\", \n",
    "                                                      \"Biochar\", \n",
    "                                                      \"Blue Carbon\", \n",
    "                                                      \"CCS\", \n",
    "                                                      \"CCUS\", \n",
    "                                                      \"Ocean alkalinity enhancement\", \n",
    "                                                      \"Forest Management\",\n",
    "                                                      \"Algae farming\",\n",
    "                                                      \"Other technologies\",\n",
    "                                                      \"Soil Carbon Sequestration\",\n",
    "                                                      \"Agroforestry\",\n",
    "                                                      \"Enhanced Weathering (land based)\",\n",
    "                                                      \"Ocean fertilization & Artificial upwelling\",\n",
    "                                                      \"DAC(CS)\",\n",
    "                                                      \"General Literature on CDR/NET\",\n",
    "                                                      \"AR\",\n",
    "                                                      \"restoration of landscapes/peats\"]]"
   ]
  },
  {
   "cell_type": "code",
   "execution_count": 8,
   "id": "b442c82f-8108-436b-817f-60164f5ee928",
   "metadata": {},
   "outputs": [],
   "source": [
    "location = year_technology_abstracts[[\"id\", \"title\", \"abstract\"]]"
   ]
  },
  {
   "cell_type": "markdown",
   "id": "3b0c6143-b345-406a-9b12-06619a402c02",
   "metadata": {},
   "source": [
    "Save as new dataframes"
   ]
  },
  {
   "cell_type": "code",
   "execution_count": 102,
   "id": "7135e6d7-96ed-4764-815d-ff57610f9a86",
   "metadata": {},
   "outputs": [],
   "source": [
    "year.to_csv(\"../MT data/year.csv\", index=False)\n",
    "location.to_csv(\"../MT data/location.csv\", index=False)"
   ]
  }
 ],
 "metadata": {
  "kernelspec": {
   "display_name": "Python 3 (ipykernel)",
   "language": "python",
   "name": "python3"
  },
  "language_info": {
   "codemirror_mode": {
    "name": "ipython",
    "version": 3
   },
   "file_extension": ".py",
   "mimetype": "text/x-python",
   "name": "python",
   "nbconvert_exporter": "python",
   "pygments_lexer": "ipython3",
   "version": "3.10.9"
  }
 },
 "nbformat": 4,
 "nbformat_minor": 5
}
